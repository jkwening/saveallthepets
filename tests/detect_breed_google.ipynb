{
 "cells": [
  {
   "cell_type": "markdown",
   "metadata": {},
   "source": [
    "Note: Requires installation\n",
    "\n",
    "`pip install google-api-python-client`\n",
    "\n",
    "`pip install google-cloud`\n",
    "\n",
    "`pip install google-cloud-vision`\n",
    "\n",
    "and Google Cloud API Key, export credentials. Example:\n",
    "\n",
    "`export GOOGLE_APPLICATION_CREDENTIALS=\"/Users/sandbar/Documents/saveallthepets/credentials.json\"`"
   ]
  },
  {
   "cell_type": "code",
   "execution_count": 1,
   "metadata": {},
   "outputs": [],
   "source": [
    "from google.cloud import *\n",
    "import io\n",
    "import os\n",
    "from IPython.display import Image\n",
    "from IPython.core.display import HTML "
   ]
  },
  {
   "cell_type": "code",
   "execution_count": 2,
   "metadata": {},
   "outputs": [],
   "source": [
    "def detect_labels_uri(uri):\n",
    "    \"\"\"Detects labels in the file located in Google Cloud Storage or on the\n",
    "    Web.\"\"\"\n",
    "    from google.cloud import vision\n",
    "    client = vision.ImageAnnotatorClient()\n",
    "    image = vision.types.Image()\n",
    "    image.source.image_uri = uri\n",
    "\n",
    "    response = client.label_detection(image=image)\n",
    "    labels = response.label_annotations\n",
    "    print('Labels:')\n",
    "\n",
    "    for label in labels:\n",
    "        print(label.description)"
   ]
  },
  {
   "cell_type": "markdown",
   "metadata": {},
   "source": [
    "Test: Beagle picture"
   ]
  },
  {
   "cell_type": "code",
   "execution_count": 3,
   "metadata": {},
   "outputs": [
    {
     "name": "stdout",
     "output_type": "stream",
     "text": [
      "Labels:\n",
      "Dog\n",
      "Mammal\n",
      "Vertebrate\n",
      "Dog breed\n",
      "Canidae\n",
      "Carnivore\n",
      "Beagle\n",
      "Basset artésien normand\n",
      "Companion dog\n",
      "Artois hound\n"
     ]
    }
   ],
   "source": [
    "detect_labels_uri('https://s3.amazonaws.com/cdn-origin-etr.akc.org/wp-content/uploads/2017/11/13000937/Beagle-On-White-07.jpg')"
   ]
  },
  {
   "cell_type": "markdown",
   "metadata": {},
   "source": [
    "Test: Komondor picture"
   ]
  },
  {
   "cell_type": "code",
   "execution_count": 4,
   "metadata": {},
   "outputs": [
    {
     "name": "stdout",
     "output_type": "stream",
     "text": [
      "Labels:\n",
      "Dog\n",
      "Mammal\n",
      "Vertebrate\n",
      "Dog breed\n",
      "Canidae\n",
      "Komondor\n",
      "Carnivore\n",
      "Bergamasco shepherd\n",
      "Terrier\n",
      "Sporting Group\n"
     ]
    }
   ],
   "source": [
    "detect_labels_uri('https://s3.amazonaws.com/cdn-origin-etr.akc.org/wp-content/uploads/2017/11/12231525/Komondor-On-White-01.jpg')"
   ]
  },
  {
   "cell_type": "markdown",
   "metadata": {},
   "source": [
    "Test: mixed breed?"
   ]
  },
  {
   "cell_type": "code",
   "execution_count": 12,
   "metadata": {},
   "outputs": [
    {
     "data": {
      "text/html": [
       "<img src=\"http://evanstonanimalshelter.net/wp-content/uploads/2019/01/Ellie1.jpg\"/>"
      ],
      "text/plain": [
       "<IPython.core.display.Image object>"
      ]
     },
     "execution_count": 12,
     "metadata": {},
     "output_type": "execute_result"
    }
   ],
   "source": [
    "Image(url=\"http://evanstonanimalshelter.net/wp-content/uploads/2019/01/Ellie1.jpg\")"
   ]
  },
  {
   "cell_type": "code",
   "execution_count": 7,
   "metadata": {},
   "outputs": [
    {
     "name": "stdout",
     "output_type": "stream",
     "text": [
      "Labels:\n",
      "Dog\n",
      "Vertebrate\n",
      "Dog breed\n",
      "Canidae\n",
      "Mammal\n",
      "American pit bull terrier\n",
      "Nose\n",
      "American staffordshire terrier\n",
      "Snout\n",
      "Carnivore\n"
     ]
    }
   ],
   "source": [
    "detect_labels_uri('http://evanstonanimalshelter.net/wp-content/uploads/2019/01/Ellie1.jpg')"
   ]
  },
  {
   "cell_type": "code",
   "execution_count": null,
   "metadata": {},
   "outputs": [],
   "source": [
    "Test: challenge"
   ]
  },
  {
   "cell_type": "code",
   "execution_count": 11,
   "metadata": {},
   "outputs": [
    {
     "data": {
      "text/html": [
       "<img src=\"https://atlantahumane.org/wp-content/uploads/2017/05/oscar-wilde-2017-1200x630.png\"/>"
      ],
      "text/plain": [
       "<IPython.core.display.Image object>"
      ]
     },
     "execution_count": 11,
     "metadata": {},
     "output_type": "execute_result"
    }
   ],
   "source": [
    "Image(url= \"https://atlantahumane.org/wp-content/uploads/2017/05/oscar-wilde-2017-1200x630.png\")"
   ]
  },
  {
   "cell_type": "code",
   "execution_count": 9,
   "metadata": {},
   "outputs": [
    {
     "name": "stdout",
     "output_type": "stream",
     "text": [
      "Labels:\n",
      "Dog\n",
      "Mammal\n",
      "Vertebrate\n",
      "Dog breed\n",
      "Canidae\n",
      "Carnivore\n",
      "Australian stumpy tail cattle dog\n",
      "Snout\n",
      "Formosan mountain dog\n",
      "Koolie\n"
     ]
    }
   ],
   "source": [
    "detect_labels_uri('https://atlantahumane.org/wp-content/uploads/2017/05/oscar-wilde-2017-1200x630.png')"
   ]
  },
  {
   "cell_type": "markdown",
   "metadata": {},
   "source": [
    "Note: below is for local images"
   ]
  },
  {
   "cell_type": "code",
   "execution_count": 2,
   "metadata": {},
   "outputs": [],
   "source": [
    "def detect_labels(path):\n",
    "    \"\"\"Detects labels in the file.\"\"\"\n",
    "    from google.cloud import vision\n",
    "    client = vision.ImageAnnotatorClient()\n",
    "\n",
    "    with io.open(path, 'rb') as image_file:\n",
    "        content = image_file.read()\n",
    "\n",
    "    image = vision.types.Image(content=content)\n",
    "\n",
    "    response = client.label_detection(image=image)\n",
    "    labels = response.label_annotations\n",
    "    print('Labels:')\n",
    "\n",
    "    for label in labels:\n",
    "        print(label.description)"
   ]
  },
  {
   "cell_type": "code",
   "execution_count": 6,
   "metadata": {},
   "outputs": [
    {
     "name": "stdout",
     "output_type": "stream",
     "text": [
      "Labels:\n",
      "Dog\n",
      "Mammal\n",
      "Vertebrate\n",
      "Dog breed\n",
      "Canidae\n",
      "Beagle\n",
      "Carnivore\n",
      "Beagle-harrier\n",
      "Snout\n",
      "Scent hound\n"
     ]
    }
   ],
   "source": [
    "detect_labels('/Users/sandbar/Pictures/clean/beagle/150.jpeg')"
   ]
  },
  {
   "cell_type": "code",
   "execution_count": 4,
   "metadata": {},
   "outputs": [],
   "source": [
    "def detect_web_uri(uri):\n",
    "    \"\"\"Detects web annotations in the web-based image.\"\"\"\n",
    "    from google.cloud import vision\n",
    "    client = vision.ImageAnnotatorClient()\n",
    "    image = vision.types.Image()\n",
    "    image.source.image_uri = uri\n",
    "\n",
    "    response = client.web_detection(image=image)\n",
    "    annotations = response.web_detection\n",
    "\n",
    "    if annotations.best_guess_labels:\n",
    "        for label in annotations.best_guess_labels:\n",
    "            print('\\nBest guess label: {}'.format(label.label))\n",
    "\n",
    "    if annotations.pages_with_matching_images:\n",
    "        print('\\n{} Pages with matching images found:'.format(\n",
    "            len(annotations.pages_with_matching_images)))\n",
    "\n",
    "        for page in annotations.pages_with_matching_images:\n",
    "            print('\\n\\tPage url   : {}'.format(page.url))\n",
    "\n",
    "            if page.full_matching_images:\n",
    "                print('\\t{} Full Matches found: '.format(\n",
    "                       len(page.full_matching_images)))\n",
    "\n",
    "                for image in page.full_matching_images:\n",
    "                    print('\\t\\tImage url  : {}'.format(image.url))\n",
    "\n",
    "            if page.partial_matching_images:\n",
    "                print('\\t{} Partial Matches found: '.format(\n",
    "                       len(page.partial_matching_images)))\n",
    "\n",
    "                for image in page.partial_matching_images:\n",
    "                    print('\\t\\tImage url  : {}'.format(image.url))\n",
    "\n",
    "    if annotations.web_entities:\n",
    "        print('\\n{} Web entities found: '.format(\n",
    "            len(annotations.web_entities)))\n",
    "\n",
    "        for entity in annotations.web_entities:\n",
    "            print('\\n\\tScore      : {}'.format(entity.score))\n",
    "            print(u'\\tDescription: {}'.format(entity.description))\n",
    "\n",
    "    if annotations.visually_similar_images:\n",
    "        print('\\n{} visually similar images found:\\n'.format(\n",
    "            len(annotations.visually_similar_images)))\n",
    "\n",
    "        for image in annotations.visually_similar_images:\n",
    "            print('\\tImage url    : {}'.format(image.url))"
   ]
  },
  {
   "cell_type": "code",
   "execution_count": 5,
   "metadata": {},
   "outputs": [
    {
     "name": "stdout",
     "output_type": "stream",
     "text": [
      "\n",
      "Best guess label: adopt a dog\n",
      "\n",
      "10 Pages with matching images found:\n",
      "\n",
      "\tPage url   : https://atlantahumane.org/adopt/dogs/\n",
      "\t1 Full Matches found: \n",
      "\t\tImage url  : https://atlantahumane.org/wp-content/uploads/2017/05/oscar-wilde-2017-1200x630.png\n",
      "\n",
      "\tPage url   : https://atlantahumane.org/oscar-wilde-survives/\n",
      "\t1 Full Matches found: \n",
      "\t\tImage url  : https://atlantahumane.org/wp-content/uploads/2017/05/oscar-wilde-2017-1200x630.png\n",
      "\n",
      "\tPage url   : http://www.litlepups.net/tag/adoption-dog/20\n",
      "\t2 Full Matches found: \n",
      "\t\tImage url  : http://cdn1.litlepups.net/resize/2018/12/19/medium-adopt-a-dog-or-puppy-adoption.png\n",
      "\t\tImage url  : http://cdn1.litlepups.net/resize/2018/12/19/small-adopt-a-dog-or-puppy-adoption.png\n",
      "\n",
      "\tPage url   : http://www.litlepups.net/tag/adoption-of-dogs/\n",
      "\t2 Full Matches found: \n",
      "\t\tImage url  : http://cdn1.litlepups.net/resize/2019/02/11/medium-adopt-a-dog-or-puppy-adoption-of-dogs.png\n",
      "\t\tImage url  : http://cdn1.litlepups.net/resize/2019/02/11/small-adopt-a-dog-or-puppy-adoption-of-dogs.png\n",
      "\n",
      "\tPage url   : http://www.litlepups.net/32ad8c2dd6c2f468.html\n",
      "\t1 Full Matches found: \n",
      "\t\tImage url  : http://cdn1.litlepups.net/resize/2018/12/19/small-adopt-a-dog-or-puppy-adoption.png\n",
      "\n",
      "\tPage url   : http://www.litlepups.net/tag/pictures-of-cute-dogs-for-adoption/\n",
      "\t2 Full Matches found: \n",
      "\t\tImage url  : http://cdn1.litlepups.net/resize/2019/02/26/medium-adopt-a-dog-or-puppy-pictures-of-cute-dogs-for-adoption.png\n",
      "\t\tImage url  : http://cdn1.litlepups.net/resize/2019/02/26/small-adopt-a-dog-or-puppy-pictures-of-cute-dogs-for-adoption.png\n",
      "\n",
      "\tPage url   : http://yousense.info/61646f7074/adopt-a-dog-abqdog-adopt-a-dog.html\n",
      "\t1 Full Matches found: \n",
      "\t\tImage url  : http://atlantahumane.org/wp-content/uploads/2017/05/oscar-wilde-2017-1200x630.png\n",
      "\n",
      "\tPage url   : http://galla.seelenfluegel.info/cat/dogs-for-adoption-in-atlanta-georgia.html\n",
      "\t1 Full Matches found: \n",
      "\t\tImage url  : https://atlantahumane.org/wp-content/uploads/2017/05/oscar-wilde-2017-1200x630.png\n",
      "\n",
      "\tPage url   : http://asianfoodies.info/american-humane-society-christmas-cards\n",
      "\t1 Full Matches found: \n",
      "\t\tImage url  : http://asianfoodies.info/wp-content/uploads/american-humane-society-christmas-cards/american-humane-society-christmas-cards-oscar-wilde-x.png\n",
      "\n",
      "\tPage url   : http://induced.info/?s=Hours+amp+Locations++Dog+Cat+Pet+Adoption+Animal+Shelter\n",
      "\t1 Full Matches found: \n",
      "\t\tImage url  : http://atlantahumane.org/wp-content/uploads/2017/05/oscar-wilde-2017-1200x630.png\n",
      "\n",
      "10 Web entities found: \n",
      "\n",
      "\tScore      : 1.0714499950408936\n",
      "\tDescription: Dog\n",
      "\n",
      "\tScore      : 0.796500027179718\n",
      "\tDescription: Puppy\n",
      "\n",
      "\tScore      : 0.7239999771118164\n",
      "\tDescription: Pet adoption\n",
      "\n",
      "\tScore      : 0.713699996471405\n",
      "\tDescription: Adoption\n",
      "\n",
      "\tScore      : 0.7102000117301941\n",
      "\tDescription: Animal shelter\n",
      "\n",
      "\tScore      : 0.6938227415084839\n",
      "\tDescription: Dog breed\n",
      "\n",
      "\tScore      : 0.6442999839782715\n",
      "\tDescription: Rescue dog\n",
      "\n",
      "\tScore      : 0.6341000199317932\n",
      "\tDescription: Humane society\n",
      "\n",
      "\tScore      : 0.6144999861717224\n",
      "\tDescription: Pet\n",
      "\n",
      "\tScore      : 0.4933500289916992\n",
      "\tDescription: The Shelter Dog\n",
      "\n",
      "8 visually similar images found:\n",
      "\n",
      "\tImage url    : https://atlantahumane.org/wp-content/uploads/2017/05/oscar-wilde-2017-1200x630.png\n",
      "\tImage url    : https://luckydogbcs.com/wp-content/uploads/2018/05/adoptpup.png\n",
      "\tImage url    : https://static1.squarespace.com/static/58bf02482994cad02a836f3e/t/5b049579758d466928883131/1527086317968/mutt+scouts+adopt+dogs+in+san+diego.jpg?format=1000w\n",
      "\tImage url    : https://www.rd.com/wp-content/uploads/2018/09/15-Best-Pet-Friendly-Hotels-in-America-5-760x506.jpg\n",
      "\tImage url    : https://www.suggestedpost.eu/wp-content/uploads/2016/10/dog-cafe-5.jpg\n",
      "\tImage url    : http://darcysarc.ca/images/AdoptionsArtWork/Aug23.jpg\n",
      "\tImage url    : http://www.aspca.org/sites/default/files/adoptable-dogs-your-local-shelter.jpg\n",
      "\tImage url    : https://pet-uploads.adoptapet.com/6/3/0/94798836.jpg\n"
     ]
    }
   ],
   "source": [
    "detect_web_uri('https://atlantahumane.org/wp-content/uploads/2017/05/oscar-wilde-2017-1200x630.png')"
   ]
  },
  {
   "cell_type": "code",
   "execution_count": null,
   "metadata": {},
   "outputs": [],
   "source": []
  }
 ],
 "metadata": {
  "kernelspec": {
   "display_name": "Python 3",
   "language": "python",
   "name": "python3"
  },
  "language_info": {
   "codemirror_mode": {
    "name": "ipython",
    "version": 3
   },
   "file_extension": ".py",
   "mimetype": "text/x-python",
   "name": "python",
   "nbconvert_exporter": "python",
   "pygments_lexer": "ipython3",
   "version": "3.7.2"
  }
 },
 "nbformat": 4,
 "nbformat_minor": 2
}
