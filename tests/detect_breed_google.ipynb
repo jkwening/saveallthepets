{
 "cells": [
  {
   "cell_type": "markdown",
   "metadata": {},
   "source": [
    "Note: Requires installation\n",
    "\n",
    "`pip install --upgrade google-api-python-client`\n",
    "\n",
    "`pip install --upgrade google-cloud`\n",
    "\n",
    "`pip install --upgrade google-cloud-vision`\n",
    "\n",
    "and Google Cloud API Key"
   ]
  },
  {
   "cell_type": "code",
   "execution_count": 10,
   "metadata": {},
   "outputs": [],
   "source": [
    "from google.cloud import *\n",
    "import io\n",
    "import os\n",
    "from IPython.display import Image\n",
    "from IPython.core.display import HTML "
   ]
  },
  {
   "cell_type": "code",
   "execution_count": 2,
   "metadata": {},
   "outputs": [],
   "source": [
    "def detect_labels_uri(uri):\n",
    "    \"\"\"Detects labels in the file located in Google Cloud Storage or on the\n",
    "    Web.\"\"\"\n",
    "    from google.cloud import vision\n",
    "    client = vision.ImageAnnotatorClient()\n",
    "    image = vision.types.Image()\n",
    "    image.source.image_uri = uri\n",
    "\n",
    "    response = client.label_detection(image=image)\n",
    "    labels = response.label_annotations\n",
    "    print('Labels:')\n",
    "\n",
    "    for label in labels:\n",
    "        print(label.description)"
   ]
  },
  {
   "cell_type": "markdown",
   "metadata": {},
   "source": [
    "Test: Beagle picture"
   ]
  },
  {
   "cell_type": "code",
   "execution_count": 3,
   "metadata": {},
   "outputs": [
    {
     "name": "stdout",
     "output_type": "stream",
     "text": [
      "Labels:\n",
      "Dog\n",
      "Mammal\n",
      "Vertebrate\n",
      "Dog breed\n",
      "Canidae\n",
      "Carnivore\n",
      "Beagle\n",
      "Basset artésien normand\n",
      "Companion dog\n",
      "Artois hound\n"
     ]
    }
   ],
   "source": [
    "detect_labels_uri('https://s3.amazonaws.com/cdn-origin-etr.akc.org/wp-content/uploads/2017/11/13000937/Beagle-On-White-07.jpg')"
   ]
  },
  {
   "cell_type": "markdown",
   "metadata": {},
   "source": [
    "Test: Komondor picture"
   ]
  },
  {
   "cell_type": "code",
   "execution_count": 4,
   "metadata": {},
   "outputs": [
    {
     "name": "stdout",
     "output_type": "stream",
     "text": [
      "Labels:\n",
      "Dog\n",
      "Mammal\n",
      "Vertebrate\n",
      "Dog breed\n",
      "Canidae\n",
      "Komondor\n",
      "Carnivore\n",
      "Bergamasco shepherd\n",
      "Terrier\n",
      "Sporting Group\n"
     ]
    }
   ],
   "source": [
    "detect_labels_uri('https://s3.amazonaws.com/cdn-origin-etr.akc.org/wp-content/uploads/2017/11/12231525/Komondor-On-White-01.jpg')"
   ]
  },
  {
   "cell_type": "markdown",
   "metadata": {},
   "source": [
    "Test: mixed breed?"
   ]
  },
  {
   "cell_type": "code",
   "execution_count": 12,
   "metadata": {},
   "outputs": [
    {
     "data": {
      "text/html": [
       "<img src=\"http://evanstonanimalshelter.net/wp-content/uploads/2019/01/Ellie1.jpg\"/>"
      ],
      "text/plain": [
       "<IPython.core.display.Image object>"
      ]
     },
     "execution_count": 12,
     "metadata": {},
     "output_type": "execute_result"
    }
   ],
   "source": [
    "Image(url=\"http://evanstonanimalshelter.net/wp-content/uploads/2019/01/Ellie1.jpg\")"
   ]
  },
  {
   "cell_type": "code",
   "execution_count": 7,
   "metadata": {},
   "outputs": [
    {
     "name": "stdout",
     "output_type": "stream",
     "text": [
      "Labels:\n",
      "Dog\n",
      "Vertebrate\n",
      "Dog breed\n",
      "Canidae\n",
      "Mammal\n",
      "American pit bull terrier\n",
      "Nose\n",
      "American staffordshire terrier\n",
      "Snout\n",
      "Carnivore\n"
     ]
    }
   ],
   "source": [
    "detect_labels_uri('http://evanstonanimalshelter.net/wp-content/uploads/2019/01/Ellie1.jpg')"
   ]
  },
  {
   "cell_type": "code",
   "execution_count": null,
   "metadata": {},
   "outputs": [],
   "source": [
    "Test: challenge"
   ]
  },
  {
   "cell_type": "code",
   "execution_count": 11,
   "metadata": {},
   "outputs": [
    {
     "data": {
      "text/html": [
       "<img src=\"https://atlantahumane.org/wp-content/uploads/2017/05/oscar-wilde-2017-1200x630.png\"/>"
      ],
      "text/plain": [
       "<IPython.core.display.Image object>"
      ]
     },
     "execution_count": 11,
     "metadata": {},
     "output_type": "execute_result"
    }
   ],
   "source": [
    "Image(url= \"https://atlantahumane.org/wp-content/uploads/2017/05/oscar-wilde-2017-1200x630.png\")"
   ]
  },
  {
   "cell_type": "code",
   "execution_count": 9,
   "metadata": {},
   "outputs": [
    {
     "name": "stdout",
     "output_type": "stream",
     "text": [
      "Labels:\n",
      "Dog\n",
      "Mammal\n",
      "Vertebrate\n",
      "Dog breed\n",
      "Canidae\n",
      "Carnivore\n",
      "Australian stumpy tail cattle dog\n",
      "Snout\n",
      "Formosan mountain dog\n",
      "Koolie\n"
     ]
    }
   ],
   "source": [
    "detect_labels_uri('https://atlantahumane.org/wp-content/uploads/2017/05/oscar-wilde-2017-1200x630.png')"
   ]
  },
  {
   "cell_type": "markdown",
   "metadata": {},
   "source": [
    "Note: below is for local images"
   ]
  },
  {
   "cell_type": "code",
   "execution_count": 2,
   "metadata": {},
   "outputs": [],
   "source": [
    "def detect_labels(path):\n",
    "    \"\"\"Detects labels in the file.\"\"\"\n",
    "    from google.cloud import vision\n",
    "    client = vision.ImageAnnotatorClient()\n",
    "\n",
    "    with io.open(path, 'rb') as image_file:\n",
    "        content = image_file.read()\n",
    "\n",
    "    image = vision.types.Image(content=content)\n",
    "\n",
    "    response = client.label_detection(image=image)\n",
    "    labels = response.label_annotations\n",
    "    print('Labels:')\n",
    "\n",
    "    for label in labels:\n",
    "        print(label.description)"
   ]
  },
  {
   "cell_type": "code",
   "execution_count": 6,
   "metadata": {},
   "outputs": [
    {
     "name": "stdout",
     "output_type": "stream",
     "text": [
      "Labels:\n",
      "Dog\n",
      "Mammal\n",
      "Vertebrate\n",
      "Dog breed\n",
      "Canidae\n",
      "Beagle\n",
      "Carnivore\n",
      "Beagle-harrier\n",
      "Snout\n",
      "Scent hound\n"
     ]
    }
   ],
   "source": [
    "detect_labels('/Users/sandbar/Pictures/clean/beagle/150.jpeg')"
   ]
  },
  {
   "cell_type": "code",
   "execution_count": null,
   "metadata": {},
   "outputs": [],
   "source": []
  }
 ],
 "metadata": {
  "kernelspec": {
   "display_name": "Python 3",
   "language": "python",
   "name": "python3"
  },
  "language_info": {
   "codemirror_mode": {
    "name": "ipython",
    "version": 3
   },
   "file_extension": ".py",
   "mimetype": "text/x-python",
   "name": "python",
   "nbconvert_exporter": "python",
   "pygments_lexer": "ipython3",
   "version": "3.7.2"
  }
 },
 "nbformat": 4,
 "nbformat_minor": 2
}
